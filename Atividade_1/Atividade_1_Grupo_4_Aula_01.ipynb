{
  "cells": [
    {
      "cell_type": "markdown",
      "metadata": {
        "id": "Quuo6HSI-DC1"
      },
      "source": [
        "Grupo 4: Ana Carolina Galindo, Cíntia Dantas, Enzo dos Santos, Gabriel Mariusso e Júlia Cavalcante"
      ]
    },
    {
      "cell_type": "markdown",
      "metadata": {
        "id": "sIEo2Xlc5LzZ"
      },
      "source": [
        "### Atividade"
      ]
    },
    {
      "cell_type": "markdown",
      "metadata": {
        "id": "MG19M5O_5Lzd"
      },
      "source": [
        "Para resolver as questões abaixo utilizar o dataset Titanic."
      ]
    },
    {
      "cell_type": "code",
      "execution_count": 3,
      "metadata": {
        "id": "y52Z18Rx5Lze"
      },
      "outputs": [],
      "source": [
        "import pandas as pd\n",
        "import seaborn as sns"
      ]
    },
    {
      "cell_type": "code",
      "execution_count": 4,
      "metadata": {
        "id": "GrYWFYF95Lzf"
      },
      "outputs": [
        {
          "data": {
            "text/plain": [
              "['anagrams',\n",
              " 'anscombe',\n",
              " 'attention',\n",
              " 'brain_networks',\n",
              " 'car_crashes',\n",
              " 'diamonds',\n",
              " 'dots',\n",
              " 'dowjones',\n",
              " 'exercise',\n",
              " 'flights',\n",
              " 'fmri',\n",
              " 'geyser',\n",
              " 'glue',\n",
              " 'healthexp',\n",
              " 'iris',\n",
              " 'mpg',\n",
              " 'penguins',\n",
              " 'planets',\n",
              " 'seaice',\n",
              " 'taxis',\n",
              " 'tips',\n",
              " 'titanic']"
            ]
          },
          "execution_count": 4,
          "metadata": {},
          "output_type": "execute_result"
        }
      ],
      "source": [
        "# Verifica os datasets da biblioteca seaborn\n",
        "sns.get_dataset_names()"
      ]
    },
    {
      "cell_type": "code",
      "execution_count": 5,
      "metadata": {
        "id": "oCnTt9eg5Lzg"
      },
      "outputs": [],
      "source": [
        "# Escolhe dataset\n",
        "titanic = sns.load_dataset('titanic')"
      ]
    },
    {
      "cell_type": "code",
      "execution_count": 6,
      "metadata": {
        "colab": {
          "base_uri": "https://localhost:8080/"
        },
        "id": "H04q9PfH5Lzg",
        "outputId": "7d48937b-b18a-4e02-8e93-02ade5558314"
      },
      "outputs": [
        {
          "name": "stdout",
          "output_type": "stream",
          "text": [
            "<class 'pandas.core.frame.DataFrame'>\n",
            "RangeIndex: 891 entries, 0 to 890\n",
            "Data columns (total 15 columns):\n",
            " #   Column       Non-Null Count  Dtype   \n",
            "---  ------       --------------  -----   \n",
            " 0   survived     891 non-null    int64   \n",
            " 1   pclass       891 non-null    int64   \n",
            " 2   sex          891 non-null    object  \n",
            " 3   age          714 non-null    float64 \n",
            " 4   sibsp        891 non-null    int64   \n",
            " 5   parch        891 non-null    int64   \n",
            " 6   fare         891 non-null    float64 \n",
            " 7   embarked     889 non-null    object  \n",
            " 8   class        891 non-null    category\n",
            " 9   who          891 non-null    object  \n",
            " 10  adult_male   891 non-null    bool    \n",
            " 11  deck         203 non-null    category\n",
            " 12  embark_town  889 non-null    object  \n",
            " 13  alive        891 non-null    object  \n",
            " 14  alone        891 non-null    bool    \n",
            "dtypes: bool(2), category(2), float64(2), int64(4), object(5)\n",
            "memory usage: 80.7+ KB\n"
          ]
        }
      ],
      "source": [
        "# Explora informações básicas do dataset\n",
        "titanic.info()"
      ]
    },
    {
      "cell_type": "markdown",
      "metadata": {
        "id": "goUcoZJO5Lzh"
      },
      "source": [
        "Questão 1 - Criar um gráfico com a biblioteca Pandas que mostre a quantidade de pessoas por cidade de embarque, coluna embark_town no dataset."
      ]
    },
    {
      "cell_type": "code",
      "execution_count": 7,
      "metadata": {
        "colab": {
          "base_uri": "https://localhost:8080/"
        },
        "id": "UmMYxLCn5Lzh",
        "outputId": "722111ca-a757-4aa8-d074-b48c8ef86bdf"
      },
      "outputs": [
        {
          "data": {
            "text/plain": [
              "array(['Southampton', 'Cherbourg', 'Queenstown', nan], dtype=object)"
            ]
          },
          "execution_count": 7,
          "metadata": {},
          "output_type": "execute_result"
        }
      ],
      "source": [
        "# Mostra as cidades de embarque do dataset\n",
        "titanic['embark_town'].unique()"
      ]
    },
    {
      "cell_type": "code",
      "execution_count": 8,
      "metadata": {
        "colab": {
          "base_uri": "https://localhost:8080/"
        },
        "id": "0zf_buwM5Lzi",
        "outputId": "bc888af3-c14b-4bc1-e0d6-1a73a4f5f8c4"
      },
      "outputs": [
        {
          "data": {
            "text/plain": [
              "Southampton    644\n",
              "Cherbourg      168\n",
              "Queenstown      77\n",
              "Name: embark_town, dtype: int64"
            ]
          },
          "execution_count": 8,
          "metadata": {},
          "output_type": "execute_result"
        }
      ],
      "source": [
        "# Conta quantos passageiros vêm de cada cidade\n",
        "titanic['embark_town'].value_counts()"
      ]
    },
    {
      "cell_type": "code",
      "execution_count": 9,
      "metadata": {
        "colab": {
          "base_uri": "https://localhost:8080/",
          "height": 281
        },
        "id": "ARs8O9UD5Lzi",
        "outputId": "db441be0-ce20-4fc1-cd74-61385ebe4ef0"
      },
      "outputs": [
        {
          "data": {
            "image/png": "[encoded data removed]",
            "text/plain": [
              "<Figure size 432x288 with 1 Axes>"
            ]
          },
          "metadata": {
            "needs_background": "light"
          },
          "output_type": "display_data"
        }
      ],
      "source": [
        "# Gera um gráfico de barras da quantidade de pessoas por cidade de embarque\n",
        "q1 = titanic['embark_town'].value_counts().plot.bar(rot=0)\n",
        "q1.set_title('Quantidade de pessoas por cidade de embarque');"
      ]
    },
    {
      "cell_type": "markdown",
      "metadata": {
        "id": "w4FcztQu5Lzi"
      },
      "source": [
        "Questão 2 - Criar um gráfico com a biblioteca Pandas que mostre a quantidade de pessoas por cidade de embarque, coluna embark_town no dataset separados pelo sexo, coluna sex no dataset."
      ]
    },
    {
      "cell_type": "code",
      "execution_count": 10,
      "metadata": {
        "colab": {
          "base_uri": "https://localhost:8080/",
          "height": 143
        },
        "id": "AazP7JLt5Lzj",
        "outputId": "f5374b93-8514-47a1-c1db-aec8cdc8c854"
      },
      "outputs": [
        {
          "data": {
            "text/html": [
              "<div>\n",
              "<style scoped>\n",
              "    .dataframe tbody tr th:only-of-type {\n",
              "        vertical-align: middle;\n",
              "    }\n",
              "\n",
              "    .dataframe tbody tr th {\n",
              "        vertical-align: top;\n",
              "    }\n",
              "\n",
              "    .dataframe thead th {\n",
              "        text-align: right;\n",
              "    }\n",
              "</style>\n",
              "<table border=\"1\" class=\"dataframe\">\n",
              "  <thead>\n",
              "    <tr style=\"text-align: right;\">\n",
              "      <th></th>\n",
              "      <th>survived</th>\n",
              "      <th>pclass</th>\n",
              "      <th>age</th>\n",
              "      <th>sibsp</th>\n",
              "      <th>parch</th>\n",
              "      <th>fare</th>\n",
              "      <th>embarked</th>\n",
              "      <th>class</th>\n",
              "      <th>who</th>\n",
              "      <th>adult_male</th>\n",
              "      <th>deck</th>\n",
              "      <th>embark_town</th>\n",
              "      <th>alive</th>\n",
              "      <th>alone</th>\n",
              "      <th>sex_female</th>\n",
              "      <th>sex_male</th>\n",
              "    </tr>\n",
              "  </thead>\n",
              "  <tbody>\n",
              "    <tr>\n",
              "      <th>0</th>\n",
              "      <td>0</td>\n",
              "      <td>3</td>\n",
              "      <td>22.0</td>\n",
              "      <td>1</td>\n",
              "      <td>0</td>\n",
              "      <td>7.2500</td>\n",
              "      <td>S</td>\n",
              "      <td>Third</td>\n",
              "      <td>man</td>\n",
              "      <td>True</td>\n",
              "      <td>NaN</td>\n",
              "      <td>Southampton</td>\n",
              "      <td>no</td>\n",
              "      <td>False</td>\n",
              "      <td>0</td>\n",
              "      <td>1</td>\n",
              "    </tr>\n",
              "    <tr>\n",
              "      <th>1</th>\n",
              "      <td>1</td>\n",
              "      <td>1</td>\n",
              "      <td>38.0</td>\n",
              "      <td>1</td>\n",
              "      <td>0</td>\n",
              "      <td>71.2833</td>\n",
              "      <td>C</td>\n",
              "      <td>First</td>\n",
              "      <td>woman</td>\n",
              "      <td>False</td>\n",
              "      <td>C</td>\n",
              "      <td>Cherbourg</td>\n",
              "      <td>yes</td>\n",
              "      <td>False</td>\n",
              "      <td>1</td>\n",
              "      <td>0</td>\n",
              "    </tr>\n",
              "    <tr>\n",
              "      <th>2</th>\n",
              "      <td>1</td>\n",
              "      <td>3</td>\n",
              "      <td>26.0</td>\n",
              "      <td>0</td>\n",
              "      <td>0</td>\n",
              "      <td>7.9250</td>\n",
              "      <td>S</td>\n",
              "      <td>Third</td>\n",
              "      <td>woman</td>\n",
              "      <td>False</td>\n",
              "      <td>NaN</td>\n",
              "      <td>Southampton</td>\n",
              "      <td>yes</td>\n",
              "      <td>True</td>\n",
              "      <td>1</td>\n",
              "      <td>0</td>\n",
              "    </tr>\n",
              "  </tbody>\n",
              "</table>\n",
              "</div>"
            ],
            "text/plain": [
              "   survived  pclass   age  sibsp  parch     fare embarked  class    who  \\\n",
              "0         0       3  22.0      1      0   7.2500        S  Third    man   \n",
              "1         1       1  38.0      1      0  71.2833        C  First  woman   \n",
              "2         1       3  26.0      0      0   7.9250        S  Third  woman   \n",
              "\n",
              "   adult_male deck  embark_town alive  alone  sex_female  sex_male  \n",
              "0        True  NaN  Southampton    no  False           0         1  \n",
              "1       False    C    Cherbourg   yes  False           1         0  \n",
              "2       False  NaN  Southampton   yes   True           1         0  "
            ]
          },
          "execution_count": 10,
          "metadata": {},
          "output_type": "execute_result"
        }
      ],
      "source": [
        "# Cria variáveis dummies para sexo male e female\n",
        "q2 = pd.get_dummies(titanic, columns=['sex'])\n",
        "q2.head(3)"
      ]
    },
    {
      "cell_type": "code",
      "execution_count": 11,
      "metadata": {
        "colab": {
          "base_uri": "https://localhost:8080/",
          "height": 175
        },
        "id": "dLkn1SGP5Lzj",
        "outputId": "46d20c3c-e08e-4290-9a61-ef8d7b9627a5"
      },
      "outputs": [
        {
          "data": {
            "text/plain": [
              "embark_town  sex_female  sex_male\n",
              "Cherbourg    0           1            95\n",
              "             1           0            73\n",
              "Queenstown   0           1            41\n",
              "             1           0            36\n",
              "Southampton  0           1           441\n",
              "             1           0           203\n",
              "dtype: int64"
            ]
          },
          "execution_count": 11,
          "metadata": {},
          "output_type": "execute_result"
        }
      ],
      "source": [
        "# Verifica a quantidade de passageiros de cada sexo por cidade de embarque\n",
        "q2[['embark_town', 'sex_female', 'sex_male']].groupby('embark_town').value_counts()"
      ]
    },
    {
      "cell_type": "code",
      "execution_count": 12,
      "metadata": {
        "colab": {
          "base_uri": "https://localhost:8080/",
          "height": 296
        },
        "id": "zDDUzu6U5Lzj",
        "outputId": "ce1f6d2b-3770-40ce-814d-8314738f1c7a"
      },
      "outputs": [
        {
          "data": {
            "image/png": "[encoded data removed]",
            "text/plain": [
              "<Figure size 432x288 with 1 Axes>"
            ]
          },
          "metadata": {
            "needs_background": "light"
          },
          "output_type": "display_data"
        }
      ],
      "source": [
        "# Agrupa o dataset pelas variáveis criadas e plota o gráfico de barras\n",
        "q2_1 = q2.groupby('embark_town')[['sex_female', 'sex_male']].sum().plot.bar(rot=0)\n",
        "q2_1.set_title('Quantidade de pessoas por cidade de embarque, por sexo');"
      ]
    },
    {
      "cell_type": "markdown",
      "metadata": {
        "id": "VK0gaz5Q5Lzk"
      },
      "source": [
        "Questão 3 - Criar um gráfico com a biblioteca Pandas que mostre o percentual pelo sexo das pessoas no Titanic."
      ]
    },
    {
      "cell_type": "code",
      "execution_count": 13,
      "metadata": {
        "colab": {
          "base_uri": "https://localhost:8080/"
        },
        "id": "CqZgf-tJ5Lzk",
        "outputId": "1faeb062-711a-4f00-814e-93655800d4bb"
      },
      "outputs": [
        {
          "data": {
            "text/plain": [
              "sex_female    314\n",
              "sex_male      577\n",
              "dtype: int64"
            ]
          },
          "execution_count": 13,
          "metadata": {},
          "output_type": "execute_result"
        }
      ],
      "source": [
        "# Verifica a quantidade de passageiros por sexo, aproveitando as variáveis dummies feitas na questão anterior\n",
        "q3 =  q2[['sex_female', 'sex_male']].sum()\n",
        "q3"
      ]
    },
    {
      "cell_type": "code",
      "execution_count": 14,
      "metadata": {
        "colab": {
          "base_uri": "https://localhost:8080/",
          "height": 357
        },
        "id": "hY54ZO_U5Lzl",
        "outputId": "7e53568f-da12-4dba-80b5-11f7f5dbbe73"
      },
      "outputs": [
        {
          "data": {
            "image/png": "[encoded data removed]",
            "text/plain": [
              "<Figure size 1152x432 with 1 Axes>"
            ]
          },
          "metadata": {},
          "output_type": "display_data"
        }
      ],
      "source": [
        "# Agrupa os passageiros por sexo e plota um gráfico de pizza, com o porcentual de cada sexo\n",
        "pd.get_dummies(titanic, columns=['sex'])[['sex_female', 'sex_male']].sum() \\\n",
        "  .plot.pie(figsize=(16,6), autopct='%.2f%%');"
      ]
    },
    {
      "cell_type": "markdown",
      "metadata": {
        "id": "ilMPB4tC5Lzl"
      },
      "source": [
        "Questão 4 - Criar um gráfico com a biblioteca Pandas que mostre os outliers da idade das pessoas no Titanic, coluna age no dataset."
      ]
    },
    {
      "cell_type": "code",
      "execution_count": 15,
      "metadata": {
        "colab": {
          "base_uri": "https://localhost:8080/",
          "height": 265
        },
        "id": "GR4yZfFR5Lzm",
        "outputId": "538ad52d-19a4-4fb6-f1ac-37d5f5b5d7c7"
      },
      "outputs": [
        {
          "data": {
            "image/png": "[encoded data removed]",
            "text/plain": [
              "<Figure size 432x288 with 1 Axes>"
            ]
          },
          "metadata": {
            "needs_background": "light"
          },
          "output_type": "display_data"
        }
      ],
      "source": [
        "# Plota um boxplot para a idade; os outliers são os círculos da parte de cima do gráfico\n",
        "titanic['age'].plot(kind='box');"
      ]
    },
    {
      "cell_type": "markdown",
      "metadata": {
        "id": "KnsKFxvS5Lzm"
      },
      "source": [
        "Questão 5 - Criar um gráfico com a biblioteca Pandas que mostre os outliers da tarifa de embarque das pessoas no Titanic, coluna fare no dataset."
      ]
    },
    {
      "cell_type": "code",
      "execution_count": 16,
      "metadata": {
        "colab": {
          "base_uri": "https://localhost:8080/",
          "height": 265
        },
        "id": "uzG_HfcT5Lzm",
        "outputId": "79baa05e-834a-41e0-e99e-3f70b5205850"
      },
      "outputs": [
        {
          "data": {
            "image/png": "[encoded data removed]",
            "text/plain": [
              "<Figure size 432x288 with 1 Axes>"
            ]
          },
          "metadata": {
            "needs_background": "light"
          },
          "output_type": "display_data"
        }
      ],
      "source": [
        "# Plota um boxplot para a tarifa; os outliers são os círculos da parte de cima e meio do gráfico\n",
        "titanic['fare'].plot(kind='box');"
      ]
    },
    {
      "cell_type": "markdown",
      "metadata": {
        "id": "1BZucx7V5Lzm"
      },
      "source": [
        "Questão 6 - Criar um gráfico com a biblioteca Pandas que mostre a distribuição de idades das pessoas no Titanic, coluna age no dataset."
      ]
    },
    {
      "cell_type": "code",
      "execution_count": 17,
      "metadata": {
        "colab": {
          "base_uri": "https://localhost:8080/",
          "height": 265
        },
        "id": "_-ispJK55Lzn",
        "outputId": "db12f8cd-0df6-4c9f-ff5f-a2c3bd3219b1"
      },
      "outputs": [
        {
          "data": {
            "image/png": "[encoded data removed]",
            "text/plain": [
              "<Figure size 432x288 with 1 Axes>"
            ]
          },
          "metadata": {
            "needs_background": "light"
          },
          "output_type": "display_data"
        }
      ],
      "source": [
        "# Plota um histograma com a distribuição das idades\n",
        "titanic['age'].plot(kind='hist');"
      ]
    },
    {
      "cell_type": "markdown",
      "metadata": {
        "id": "XSk6j_i45Lzn"
      },
      "source": [
        "Questão 7 - Criar um gráfico com a biblioteca Pandas que mostre a distribuição de idades das pessoas no Titanic, coluna age no dataset separados por sexo em dois gráficos."
      ]
    },
    {
      "cell_type": "code",
      "execution_count": 20,
      "metadata": {
        "colab": {
          "base_uri": "https://localhost:8080/",
          "height": 283
        },
        "id": "q7vb2Vs95Lzn",
        "outputId": "f04a1850-7d7b-4aab-a74a-1a963272df1c"
      },
      "outputs": [
        {
          "data": {
            "text/plain": [
              "array([<AxesSubplot:ylabel='Frequency'>, <AxesSubplot:ylabel='Frequency'>],\n",
              "      dtype=object)"
            ]
          },
          "execution_count": 20,
          "metadata": {},
          "output_type": "execute_result"
        },
        {
          "data": {
            "image/png": "[encoded data removed]",
            "text/plain": [
              "<Figure size 432x288 with 1 Axes>"
            ]
          },
          "metadata": {
            "needs_background": "light"
          },
          "output_type": "display_data"
        },
        {
          "data": {
            "image/png": "[encoded data removed]",
            "text/plain": [
              "<Figure size 432x288 with 2 Axes>"
            ]
          },
          "metadata": {
            "needs_background": "light"
          },
          "output_type": "display_data"
        }
      ],
      "source": [
        "# titanic[['sex', 'age']].reset_index().pivot('index', 'sex', 'age').plot.hist(alpha=0.4)\n",
        "titanic[['sex', 'age']].reset_index().pivot('index', 'sex', 'age').plot.hist(subplots=True)"
      ]
    }
  ],
  "metadata": {
    "colab": {
      "provenance": []
    },
    "kernelspec": {
      "display_name": "Python 3.10.4 64-bit",
      "language": "python",
      "name": "python3"
    },
    "language_info": {
      "codemirror_mode": {
        "name": "ipython",
        "version": 3
      },
      "file_extension": ".py",
      "mimetype": "text/x-python",
      "name": "python",
      "nbconvert_exporter": "python",
      "pygments_lexer": "ipython3",
      "version": "3.10.4"
    },
    "orig_nbformat": 4,
    "vscode": {
      "interpreter": {
        "hash": "9bd63d4d0e53dd854605697514204d0a3a6bfb81f118d4d4374019a86f3401eb"
      }
    }
  },
  "nbformat": 4,
  "nbformat_minor": 0
}
