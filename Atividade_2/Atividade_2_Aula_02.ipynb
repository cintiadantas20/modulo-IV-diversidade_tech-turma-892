{
  "cells": [
    {
      "cell_type": "markdown",
      "metadata": {
        "id": "Mm0jn3h2wyiq"
      },
      "source": [
        "### Atividade"
      ]
    },
    {
      "cell_type": "markdown",
      "metadata": {
        "id": "t5dFD1NQxhyc"
      },
      "source": [
        "Instruções\n",
        "- Resolver as questões abaixo. Subir o notebook em um repositório público no GitHub e enviar no [Formulário](https://docs.google.com/forms/d/e/1FAIpQLSf8IUCLt4kowhHhB3SRQofE2I8NuXuDadBYjRHqUxgb3yWOaQ/viewform)\n",
        "- Para resolver as questões abaixo utilizar o dataset do seaborn: 'mpg'\n",
        "- Para os gráficos finais de cada questão, eles devem possuir título, rótulo dos eixos definidos e legenda (quando necessário)."
      ]
    },
    {
      "cell_type": "code",
      "execution_count": 28,
      "metadata": {
        "id": "2eatAzKQswGX"
      },
      "outputs": [],
      "source": [
        "import pandas as pd\n",
        "import seaborn as sns\n",
        "import matplotlib.pyplot as plt"
      ]
    },
    {
      "cell_type": "code",
      "execution_count": 34,
      "metadata": {
        "id": "WLwDpewOtHR3"
      },
      "outputs": [],
      "source": [
        "# Importa dataset\n",
        "mpg = sns.load_dataset('mpg')"
      ]
    },
    {
      "cell_type": "code",
      "execution_count": 35,
      "metadata": {
        "colab": {
          "base_uri": "https://localhost:8080/"
        },
        "id": "ZVZcFhp9YpUS",
        "outputId": "4945e9c2-d28e-49e5-d405-3f407190fd4c"
      },
      "outputs": [
        {
          "name": "stdout",
          "output_type": "stream",
          "text": [
            "<class 'pandas.core.frame.DataFrame'>\n",
            "RangeIndex: 398 entries, 0 to 397\n",
            "Data columns (total 9 columns):\n",
            " #   Column        Non-Null Count  Dtype  \n",
            "---  ------        --------------  -----  \n",
            " 0   mpg           398 non-null    float64\n",
            " 1   cylinders     398 non-null    int64  \n",
            " 2   displacement  398 non-null    float64\n",
            " 3   horsepower    392 non-null    float64\n",
            " 4   weight        398 non-null    int64  \n",
            " 5   acceleration  398 non-null    float64\n",
            " 6   model_year    398 non-null    int64  \n",
            " 7   origin        398 non-null    object \n",
            " 8   name          398 non-null    object \n",
            "dtypes: float64(4), int64(3), object(2)\n",
            "memory usage: 28.1+ KB\n"
          ]
        }
      ],
      "source": [
        "# Verifica informações gerais do dataset\n",
        "mpg.info()"
      ]
    },
    {
      "cell_type": "markdown",
      "metadata": {
        "id": "xHZnoZLJyw68"
      },
      "source": [
        "#### Questão 1"
      ]
    },
    {
      "cell_type": "markdown",
      "metadata": {
        "id": "QA6tvZbXtYvw"
      },
      "source": [
        "Verificar se a base de dados possui valores nulos. Para as linhas com valores nulos, deletar as mesmas. Ao final da questão verificar se a base de dados ficou com 392 registros e 9 colunas."
      ]
    },
    {
      "cell_type": "code",
      "execution_count": 36,
      "metadata": {
        "colab": {
          "base_uri": "https://localhost:8080/"
        },
        "id": "ZA701s58tJjO",
        "outputId": "b27cfadb-504e-42a2-95a2-64c820beb9dd"
      },
      "outputs": [
        {
          "data": {
            "text/plain": [
              "mpg             0\n",
              "cylinders       0\n",
              "displacement    0\n",
              "horsepower      6\n",
              "weight          0\n",
              "acceleration    0\n",
              "model_year      0\n",
              "origin          0\n",
              "name            0\n",
              "dtype: int64"
            ]
          },
          "execution_count": 36,
          "metadata": {},
          "output_type": "execute_result"
        }
      ],
      "source": [
        "# Verifica a quantidade de valores nulos\n",
        "mpg.isnull().sum()"
      ]
    },
    {
      "cell_type": "code",
      "execution_count": 37,
      "metadata": {
        "id": "rhew6x5xxSni"
      },
      "outputs": [],
      "source": [
        "# Deleta as linhas de valores nulos\n",
        "mpg.dropna(inplace=True)"
      ]
    },
    {
      "cell_type": "code",
      "execution_count": 38,
      "metadata": {
        "colab": {
          "base_uri": "https://localhost:8080/"
        },
        "id": "x9bOvWm2tVSq",
        "outputId": "9d374ab1-ce51-4b65-c0ea-a782d3c336ae"
      },
      "outputs": [
        {
          "name": "stdout",
          "output_type": "stream",
          "text": [
            "<class 'pandas.core.frame.DataFrame'>\n",
            "Int64Index: 392 entries, 0 to 397\n",
            "Data columns (total 9 columns):\n",
            " #   Column        Non-Null Count  Dtype  \n",
            "---  ------        --------------  -----  \n",
            " 0   mpg           392 non-null    float64\n",
            " 1   cylinders     392 non-null    int64  \n",
            " 2   displacement  392 non-null    float64\n",
            " 3   horsepower    392 non-null    float64\n",
            " 4   weight        392 non-null    int64  \n",
            " 5   acceleration  392 non-null    float64\n",
            " 6   model_year    392 non-null    int64  \n",
            " 7   origin        392 non-null    object \n",
            " 8   name          392 non-null    object \n",
            "dtypes: float64(4), int64(3), object(2)\n",
            "memory usage: 30.6+ KB\n"
          ]
        }
      ],
      "source": [
        "# Verifica que o número de linhas é 392\n",
        "mpg.info()"
      ]
    },
    {
      "cell_type": "markdown",
      "metadata": {
        "id": "qHF6jaTSy1qg"
      },
      "source": [
        "#### Questão 2"
      ]
    },
    {
      "cell_type": "markdown",
      "metadata": {
        "id": "BM2iKIK-uAx-"
      },
      "source": [
        "Qual a quantidade de carros por origem (*origin*)? Responda utilizando um gráfico de barras e inclua os rótulos dos dados."
      ]
    },
    {
      "cell_type": "code",
      "execution_count": 45,
      "metadata": {
        "colab": {
          "base_uri": "https://localhost:8080/"
        },
        "id": "ATO8JBqPLUV0",
        "outputId": "6850dff5-10d6-461d-8843-6096a05d36dc"
      },
      "outputs": [
        {
          "data": {
            "text/plain": [
              "usa       245\n",
              "japan      79\n",
              "europe     68\n",
              "Name: origin, dtype: int64"
            ]
          },
          "execution_count": 45,
          "metadata": {},
          "output_type": "execute_result"
        }
      ],
      "source": [
        "# Calcula quantos valores únicos existem na coluna origin\n",
        "mpg['origin'].value_counts()"
      ]
    },
    {
      "cell_type": "code",
      "execution_count": 40,
      "metadata": {
        "colab": {
          "base_uri": "https://localhost:8080/"
        },
        "id": "dlDCLDhLcy0X",
        "outputId": "ef317fed-ef55-4e13-add7-c382773e21d6"
      },
      "outputs": [
        {
          "name": "stdout",
          "output_type": "stream",
          "text": [
            "Index(['usa', 'japan', 'europe'], dtype='object')\n",
            "[245  79  68]\n"
          ]
        }
      ],
      "source": [
        "# Define o eixo x como os nomes dos países e o eixo y como a quantidade de carros por país\n",
        "x_bar = mpg['origin'].value_counts().index\n",
        "y_bar = mpg['origin'].value_counts().values\n",
        "print(x_bar)\n",
        "print(y_bar)"
      ]
    },
    {
      "cell_type": "code",
      "execution_count": 49,
      "metadata": {
        "colab": {
          "base_uri": "https://localhost:8080/",
          "height": 301
        },
        "id": "mQzAgwxDupqd",
        "outputId": "44c07c76-d2a0-457c-b721-63ff4fdb9037"
      },
      "outputs": [
        {
          "data": {
            "image/png": "[encoded data removed]",
            "text/plain": [
              "<Figure size 432x288 with 1 Axes>"
            ]
          },
          "metadata": {
            "needs_background": "light"
          },
          "output_type": "display_data"
        }
      ],
      "source": [
        "# Plota o gráfico de barras da quantidade de carros por país de origem\n",
        "fig, ax = plt.subplots()\n",
        "plt.bar(x_bar, y_bar, color='blue')\n",
        "\n",
        "# Títulos e tamanho de fontes\n",
        "plt.title('Quantidade de carros por país de origem', fontsize=16)\n",
        "plt.xlabel('País de origem', fontsize=12)\n",
        "plt.ylabel('Quantidade', fontsize=12)\n",
        "plt.xticks(fontsize=11)\n",
        "plt.yticks(fontsize=11)\n",
        "\n",
        "# Rótulos\n",
        "bars = ax.bar(x_bar, y_bar)\n",
        "ax.bar_label(bars)\n",
        "\n",
        "plt.show()"
      ]
    },
    {
      "cell_type": "markdown",
      "metadata": {
        "id": "_CsMciDSy6Aa"
      },
      "source": [
        "#### Questão 3"
      ]
    },
    {
      "cell_type": "markdown",
      "metadata": {
        "id": "W6YZiNejuSwE"
      },
      "source": [
        "Qual a média da potência (*horsepower*) dos carros por origem?"
      ]
    },
    {
      "cell_type": "code",
      "execution_count": 54,
      "metadata": {
        "id": "Z7it2yIovjc8"
      },
      "outputs": [
        {
          "data": {
            "text/plain": [
              "origin\n",
              "europe     80.56\n",
              "japan      79.84\n",
              "usa       119.05\n",
              "Name: horsepower, dtype: float64"
            ]
          },
          "execution_count": 54,
          "metadata": {},
          "output_type": "execute_result"
        }
      ],
      "source": [
        "# Calcula a média da potência dos carros por origem\n",
        "mpg_potencia_origem = round(mpg.groupby('origin')['horsepower'].mean(), 2)\n",
        "mpg_potencia_origem"
      ]
    },
    {
      "cell_type": "code",
      "execution_count": 55,
      "metadata": {},
      "outputs": [
        {
          "data": {
            "image/png": "[encoded data removed]",
            "text/plain": [
              "<Figure size 432x288 with 1 Axes>"
            ]
          },
          "metadata": {
            "needs_background": "light"
          },
          "output_type": "display_data"
        }
      ],
      "source": [
        "# Gráfico de linhas da média da potência dos carros por origem\n",
        "x_bar2 = mpg_potencia_origem.index\n",
        "y_bar2 = mpg_potencia_origem.values\n",
        "\n",
        "fig, ax = plt.subplots()\n",
        "plt.bar(x_bar2, y_bar2, color='red')\n",
        "\n",
        "# Títulos e tamanho de fontes\n",
        "plt.title('Média de potência dos carros por país de origem', fontsize=16)\n",
        "plt.xlabel('País de origem', fontsize=12)\n",
        "plt.ylabel('Média de potência', fontsize=12)\n",
        "plt.xticks(fontsize=11)\n",
        "plt.yticks(fontsize=11)\n",
        "\n",
        "# Rótulos\n",
        "bars = ax.bar(x_bar2, y_bar2)\n",
        "ax.bar_label(bars)\n",
        "\n",
        "plt.show()"
      ]
    },
    {
      "cell_type": "markdown",
      "metadata": {
        "id": "6VrR1rqTy7WN"
      },
      "source": [
        "#### Questão 4"
      ]
    },
    {
      "cell_type": "markdown",
      "metadata": {
        "id": "KzsEshzevysX"
      },
      "source": [
        "Qual a correlacão da potência (*horsepower*) com a aceleração (*acceleration*) dos carros?"
      ]
    },
    {
      "cell_type": "code",
      "execution_count": 57,
      "metadata": {
        "id": "EpDgVD2swQpL"
      },
      "outputs": [
        {
          "data": {
            "image/png": "[encoded data removed]",
            "text/plain": [
              "<Figure size 432x288 with 1 Axes>"
            ]
          },
          "metadata": {
            "needs_background": "light"
          },
          "output_type": "display_data"
        }
      ],
      "source": [
        "# Plota a correlação entre a potência e a aceleração dos carros\n",
        "x_scatter = mpg['acceleration']\n",
        "y_scatter = mpg['horsepower']\n",
        "plt.scatter(x_scatter, y_scatter)\n",
        "\n",
        "# Títulos e tamanho de fontes\n",
        "plt.title('Correlação entre potência e aceleração dos carros', fontsize=16)\n",
        "plt.xlabel('Aceleração', fontsize=12)\n",
        "plt.ylabel('Potência', fontsize=12)\n",
        "plt.xticks(fontsize=11)\n",
        "plt.yticks(fontsize=11)\n",
        "\n",
        "plt.show()"
      ]
    },
    {
      "cell_type": "markdown",
      "metadata": {
        "id": "iIepmt9TOVfQ"
      },
      "source": [
        "#### Questão 5"
      ]
    },
    {
      "cell_type": "markdown",
      "metadata": {
        "id": "oHx89HAlx3kw"
      },
      "source": [
        "Qual a correlacão da potência (*horsepower*) com a aceleração (*acceleration*) dos carros, segmentando de acordo com a origem (*origin*) com cores diferentes e plotando no mesmo eixo (*axes*)?"
      ]
    },
    {
      "cell_type": "code",
      "execution_count": 64,
      "metadata": {
        "id": "uf6M_1U7OeQZ"
      },
      "outputs": [
        {
          "data": {
            "image/png": "[encoded data removed]",
            "text/plain": [
              "<Figure size 432x288 with 1 Axes>"
            ]
          },
          "metadata": {
            "needs_background": "light"
          },
          "output_type": "display_data"
        }
      ],
      "source": [
        "# Plota a correlação entre a potência e a aceleração dos carros por origem\n",
        "plt.scatter(data = mpg[mpg['origin'] == 'japan'], x = 'acceleration', y = 'horsepower', c = 'red', label = 'Japão')\n",
        "plt.scatter(data = mpg[mpg['origin'] == 'usa'], x = 'acceleration', y = 'horsepower', c = 'blue', label = 'EUA')\n",
        "plt.scatter(data = mpg[mpg['origin'] == 'europe'], x = 'acceleration', y = 'horsepower', c = 'green', label = 'Europa')\n",
        "\n",
        "# Títulos e tamanho de fontes\n",
        "plt.title('Correlação entre potência e aceleração dos carros, por origem', fontsize=16)\n",
        "plt.xlabel('Aceleração', fontsize=12)\n",
        "plt.ylabel('Potência', fontsize=12)\n",
        "plt.xticks(fontsize=11)\n",
        "plt.yticks(fontsize=11)\n",
        "\n",
        "# Adiciona a legenda\n",
        "plt.legend()\n",
        "\n",
        "plt.show()"
      ]
    }
  ],
  "metadata": {
    "colab": {
      "provenance": []
    },
    "kernelspec": {
      "display_name": "Python 3.10.4 64-bit",
      "language": "python",
      "name": "python3"
    },
    "language_info": {
      "codemirror_mode": {
        "name": "ipython",
        "version": 3
      },
      "file_extension": ".py",
      "mimetype": "text/x-python",
      "name": "python",
      "nbconvert_exporter": "python",
      "pygments_lexer": "ipython3",
      "version": "3.10.4"
    },
    "vscode": {
      "interpreter": {
        "hash": "9bd63d4d0e53dd854605697514204d0a3a6bfb81f118d4d4374019a86f3401eb"
      }
    }
  },
  "nbformat": 4,
  "nbformat_minor": 0
}
